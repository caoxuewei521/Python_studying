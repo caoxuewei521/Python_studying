{
 "cells": [
  {
   "cell_type": "markdown",
   "metadata": {},
   "source": [
    "# Pandas数据结构"
   ]
  },
  {
   "cell_type": "code",
   "execution_count": 1,
   "metadata": {
    "collapsed": true
   },
   "outputs": [],
   "source": [
    "import pandas as pd"
   ]
  },
  {
   "cell_type": "markdown",
   "metadata": {},
   "source": [
    "* Series"
   ]
  },
  {
   "cell_type": "code",
   "execution_count": 2,
   "metadata": {
    "collapsed": false
   },
   "outputs": [
    {
     "name": "stdout",
     "output_type": "stream",
     "text": [
      "<class 'pandas.core.series.Series'>\n"
     ]
    }
   ],
   "source": [
    "# 通过list构建Series\n",
    "ser_obj = pd.Series(range(10, 20))\n",
    "print(type(ser_obj))"
   ]
  },
  {
   "cell_type": "code",
   "execution_count": 4,
   "metadata": {
    "collapsed": false
   },
   "outputs": [
    {
     "name": "stdout",
     "output_type": "stream",
     "text": [
      "<class 'numpy.ndarray'>\n",
      "<class 'pandas.indexes.range.RangeIndex'>\n"
     ]
    }
   ],
   "source": [
    "# 获取数据\n",
    "print(type(ser_obj.values))\n",
    "\n",
    "# 获取索引\n",
    "print(type(ser_obj.index))"
   ]
  },
  {
   "cell_type": "code",
   "execution_count": null,
   "metadata": {
    "collapsed": false
   },
   "outputs": [],
   "source": [
    "# 预览数据\n",
    "print(ser_obj.head(3))"
   ]
  },
  {
   "cell_type": "code",
   "execution_count": null,
   "metadata": {
    "collapsed": false
   },
   "outputs": [],
   "source": [
    "print(ser_obj)"
   ]
  },
  {
   "cell_type": "code",
   "execution_count": null,
   "metadata": {
    "collapsed": false
   },
   "outputs": [],
   "source": [
    "#通过索引获取数据\n",
    "print(ser_obj[0])\n",
    "print(ser_obj[8])"
   ]
  },
  {
   "cell_type": "code",
   "execution_count": 8,
   "metadata": {
    "collapsed": false
   },
   "outputs": [
    {
     "name": "stdout",
     "output_type": "stream",
     "text": [
      "6    16\n",
      "7    17\n",
      "8    18\n",
      "9    19\n",
      "dtype: int32\n"
     ]
    }
   ],
   "source": [
    "# 索引与数据的对应关系仍保持在数组运算的结果中\n",
    "#print(ser_obj * 2)\n",
    "print(ser_obj[ser_obj > 15])"
   ]
  },
  {
   "cell_type": "code",
   "execution_count": 9,
   "metadata": {
    "collapsed": false
   },
   "outputs": [
    {
     "name": "stdout",
     "output_type": "stream",
     "text": [
      "2001    17.8\n",
      "2002    20.1\n",
      "2003    16.5\n",
      "dtype: float64\n",
      "Int64Index([2001, 2002, 2003], dtype='int64')\n"
     ]
    }
   ],
   "source": [
    "# 通过dict构建Series\n",
    "year_data = {2001: 17.8, 2002: 20.1, 2003: 16.5}\n",
    "ser_obj2 = pd.Series(year_data)\n",
    "print(ser_obj2.head())\n",
    "print(ser_obj2.index)"
   ]
  },
  {
   "cell_type": "code",
   "execution_count": 10,
   "metadata": {
    "collapsed": false
   },
   "outputs": [
    {
     "name": "stdout",
     "output_type": "stream",
     "text": [
      "year\n",
      "2001    17.8\n",
      "2002    20.1\n",
      "2003    16.5\n",
      "Name: temp, dtype: float64\n"
     ]
    }
   ],
   "source": [
    "# name属性\n",
    "ser_obj2.name = 'temp'\n",
    "ser_obj2.index.name = 'year'\n",
    "print(ser_obj2.head())"
   ]
  },
  {
   "cell_type": "markdown",
   "metadata": {},
   "source": [
    "* DataFrame"
   ]
  },
  {
   "cell_type": "code",
   "execution_count": 11,
   "metadata": {
    "collapsed": false
   },
   "outputs": [
    {
     "name": "stdout",
     "output_type": "stream",
     "text": [
      "[[-0.55625099  0.93442467  0.11535717  1.56342066]\n",
      " [ 0.64320193 -0.04893324 -1.31818906 -0.62097227]\n",
      " [ 1.66981493 -0.56092261 -0.84242506 -0.04470127]\n",
      " [ 1.35308608  0.4114026  -0.59249362  0.84416865]\n",
      " [ 1.7178888   2.28936201 -0.19930729 -1.02277666]]\n",
      "          0         1         2         3\n",
      "0 -0.556251  0.934425  0.115357  1.563421\n",
      "1  0.643202 -0.048933 -1.318189 -0.620972\n",
      "2  1.669815 -0.560923 -0.842425 -0.044701\n",
      "3  1.353086  0.411403 -0.592494  0.844169\n",
      "4  1.717889  2.289362 -0.199307 -1.022777\n"
     ]
    }
   ],
   "source": [
    "import numpy as np\n",
    "\n",
    "# 通过ndarray构建DataFrame\n",
    "array = np.random.randn(5,4)\n",
    "print(array)\n",
    "\n",
    "df_obj = pd.DataFrame(array)\n",
    "print(df_obj.head())"
   ]
  },
  {
   "cell_type": "code",
   "execution_count": 12,
   "metadata": {
    "collapsed": false
   },
   "outputs": [
    {
     "name": "stdout",
     "output_type": "stream",
     "text": [
      "     A          B    C  D       E            F\n",
      "0  1.0 2016-12-17  1.0  3  Python  ChinaHadoop\n",
      "1  1.0 2016-12-17  1.0  3    Java  ChinaHadoop\n",
      "2  1.0 2016-12-17  1.0  3     C++  ChinaHadoop\n",
      "3  1.0 2016-12-17  1.0  3      C#  ChinaHadoop\n"
     ]
    }
   ],
   "source": [
    "# 通过dict构建DataFrame\n",
    "dict_data = {'A': 1., \n",
    "             'B': pd.Timestamp('20161217'),\n",
    "             'C': pd.Series(1, index=list(range(4)),dtype='float32'),\n",
    "             'D': np.array([3] * 4,dtype='int32'),\n",
    "             'E' : pd.Categorical([\"Python\",\"Java\",\"C++\",\"C#\"]),\n",
    "             'F' : 'ChinaHadoop' }\n",
    "#print dict_data\n",
    "df_obj2 = pd.DataFrame(dict_data)\n",
    "print(df_obj2.head())"
   ]
  },
  {
   "cell_type": "code",
   "execution_count": 13,
   "metadata": {
    "collapsed": false
   },
   "outputs": [
    {
     "name": "stdout",
     "output_type": "stream",
     "text": [
      "0    1.0\n",
      "1    1.0\n",
      "2    1.0\n",
      "3    1.0\n",
      "Name: A, dtype: float64\n",
      "<class 'pandas.core.series.Series'>\n",
      "0    1.0\n",
      "1    1.0\n",
      "2    1.0\n",
      "3    1.0\n",
      "Name: A, dtype: float64\n"
     ]
    }
   ],
   "source": [
    "# 通过列索引获取列数据\n",
    "print(df_obj2['A'])\n",
    "print(type(df_obj2['A']))\n",
    "\n",
    "print(df_obj2.A)"
   ]
  },
  {
   "cell_type": "code",
   "execution_count": 14,
   "metadata": {
    "collapsed": false
   },
   "outputs": [
    {
     "name": "stdout",
     "output_type": "stream",
     "text": [
      "     A          B    C  D       E            F  G\n",
      "0  1.0 2016-12-17  1.0  3  Python  ChinaHadoop  7\n",
      "1  1.0 2016-12-17  1.0  3    Java  ChinaHadoop  7\n",
      "2  1.0 2016-12-17  1.0  3     C++  ChinaHadoop  7\n",
      "3  1.0 2016-12-17  1.0  3      C#  ChinaHadoop  7\n"
     ]
    }
   ],
   "source": [
    "# 增加列\n",
    "df_obj2['G'] = df_obj2['D'] + 4\n",
    "print(df_obj2.head())"
   ]
  },
  {
   "cell_type": "code",
   "execution_count": null,
   "metadata": {
    "collapsed": false
   },
   "outputs": [],
   "source": [
    "# 删除列\n",
    "del(df_obj2['G'] )\n",
    "print(df_obj2.head())"
   ]
  },
  {
   "cell_type": "markdown",
   "metadata": {},
   "source": [
    "* 索引对象 Index"
   ]
  },
  {
   "cell_type": "code",
   "execution_count": null,
   "metadata": {
    "collapsed": false
   },
   "outputs": [],
   "source": [
    "print(type(ser_obj.index))\n",
    "print(type(df_obj2.index))\n",
    "\n",
    "print(df_obj2.index)"
   ]
  },
  {
   "cell_type": "code",
   "execution_count": null,
   "metadata": {
    "collapsed": false
   },
   "outputs": [],
   "source": [
    "# 索引对象不可变\n",
    "df_obj2.index[0] = 2"
   ]
  },
  {
   "cell_type": "code",
   "execution_count": null,
   "metadata": {
    "collapsed": true
   },
   "outputs": [],
   "source": []
  }
 ],
 "metadata": {
  "anaconda-cloud": {},
  "kernelspec": {
   "display_name": "Python [conda env:py35]",
   "language": "python",
   "name": "conda-env-py35-py"
  },
  "language_info": {
   "codemirror_mode": {
    "name": "ipython",
    "version": 3
   },
   "file_extension": ".py",
   "mimetype": "text/x-python",
   "name": "python",
   "nbconvert_exporter": "python",
   "pygments_lexer": "ipython3",
   "version": "3.5.2"
  }
 },
 "nbformat": 4,
 "nbformat_minor": 1
}
