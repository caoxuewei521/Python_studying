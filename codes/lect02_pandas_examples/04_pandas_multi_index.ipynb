{
 "cells": [
  {
   "cell_type": "markdown",
   "metadata": {},
   "source": [
    "# Pandas层级索引"
   ]
  },
  {
   "cell_type": "code",
   "execution_count": 1,
   "metadata": {
    "collapsed": true
   },
   "outputs": [],
   "source": [
    "import pandas as pd\n",
    "import numpy as np"
   ]
  },
  {
   "cell_type": "code",
   "execution_count": 2,
   "metadata": {
    "collapsed": false
   },
   "outputs": [
    {
     "name": "stdout",
     "output_type": "stream",
     "text": [
      "a  0    0.314591\n",
      "   1    0.192875\n",
      "   2    0.536819\n",
      "b  0    0.061014\n",
      "   1   -1.146156\n",
      "   2   -0.401533\n",
      "c  0    0.299740\n",
      "   1   -2.154883\n",
      "   2    2.603495\n",
      "d  0    0.057952\n",
      "   1    0.091570\n",
      "   2    1.115481\n",
      "dtype: float64\n"
     ]
    }
   ],
   "source": [
    "ser_obj = pd.Series(np.random.randn(12),\n",
    "                    index=[['a', 'a', 'a', 'b', 'b', 'b', 'c', 'c', 'c', 'd', 'd', 'd'],\n",
    "                           [0, 1, 2, 0, 1, 2, 0, 1, 2, 0, 1, 2]])\n",
    "print(ser_obj)"
   ]
  },
  {
   "cell_type": "markdown",
   "metadata": {},
   "source": [
    "* MultiIndex索引对象"
   ]
  },
  {
   "cell_type": "code",
   "execution_count": 3,
   "metadata": {
    "collapsed": false
   },
   "outputs": [
    {
     "name": "stdout",
     "output_type": "stream",
     "text": [
      "<class 'pandas.indexes.multi.MultiIndex'>\n",
      "MultiIndex(levels=[['a', 'b', 'c', 'd'], [0, 1, 2]],\n",
      "           labels=[[0, 0, 0, 1, 1, 1, 2, 2, 2, 3, 3, 3], [0, 1, 2, 0, 1, 2, 0, 1, 2, 0, 1, 2]])\n"
     ]
    }
   ],
   "source": [
    "print(type(ser_obj.index))\n",
    "print(ser_obj.index)"
   ]
  },
  {
   "cell_type": "markdown",
   "metadata": {},
   "source": [
    "* 选取子集"
   ]
  },
  {
   "cell_type": "code",
   "execution_count": 4,
   "metadata": {
    "collapsed": false
   },
   "outputs": [
    {
     "name": "stdout",
     "output_type": "stream",
     "text": [
      "0    0.299740\n",
      "1   -2.154883\n",
      "2    2.603495\n",
      "dtype: float64\n"
     ]
    }
   ],
   "source": [
    "# 外层选取\n",
    "print(ser_obj['c'])"
   ]
  },
  {
   "cell_type": "code",
   "execution_count": 5,
   "metadata": {
    "collapsed": false
   },
   "outputs": [
    {
     "name": "stdout",
     "output_type": "stream",
     "text": [
      "a    0.536819\n",
      "b   -0.401533\n",
      "c    2.603495\n",
      "d    1.115481\n",
      "dtype: float64\n"
     ]
    }
   ],
   "source": [
    "# 内层选取\n",
    "print(ser_obj[:, 2])"
   ]
  },
  {
   "cell_type": "markdown",
   "metadata": {},
   "source": [
    "* 交换分层顺序"
   ]
  },
  {
   "cell_type": "code",
   "execution_count": null,
   "metadata": {
    "collapsed": false
   },
   "outputs": [],
   "source": [
    "print(ser_obj.swaplevel())"
   ]
  },
  {
   "cell_type": "markdown",
   "metadata": {},
   "source": [
    "* 交换并排序分层"
   ]
  },
  {
   "cell_type": "code",
   "execution_count": null,
   "metadata": {
    "collapsed": false
   },
   "outputs": [],
   "source": [
    "print(ser_obj.swaplevel().sortlevel())"
   ]
  },
  {
   "cell_type": "code",
   "execution_count": null,
   "metadata": {
    "collapsed": true
   },
   "outputs": [],
   "source": []
  }
 ],
 "metadata": {
  "anaconda-cloud": {},
  "kernelspec": {
   "display_name": "Python [conda env:py35]",
   "language": "python",
   "name": "conda-env-py35-py"
  },
  "language_info": {
   "codemirror_mode": {
    "name": "ipython",
    "version": 3
   },
   "file_extension": ".py",
   "mimetype": "text/x-python",
   "name": "python",
   "nbconvert_exporter": "python",
   "pygments_lexer": "ipython3",
   "version": "3.5.2"
  }
 },
 "nbformat": 4,
 "nbformat_minor": 1
}
